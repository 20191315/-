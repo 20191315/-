{
 "cells": [
  {
   "cell_type": "code",
   "execution_count": 17,
   "id": "4a178024",
   "metadata": {},
   "outputs": [],
   "source": [
    "# -*- coding: utf-8 -*-\n",
    "\n",
    "%matplotlib inline\n",
    "\n",
    "import pandas as pd\n",
    "import numpy as np\n",
    "import matplotlib.pyplot as plt\n",
    "\n",
    "import warnings\n",
    "warnings.filterwarnings(\"ignore\")"
   ]
  },
  {
   "cell_type": "code",
   "execution_count": 18,
   "id": "33faa19a",
   "metadata": {},
   "outputs": [],
   "source": [
    "picher_file_path = '../data/picher_stats_2017.csv'\n",
    "batter_file_path = '../data/batter_stats_2017.csv'\n",
    "picher = pd.read_csv(picher_file_path)\n",
    "batter = pd.read_csv(batter_file_path)\n",
    "\n",
    "#프로야구 연봉 데이터셋의 기본 정보"
   ]
  },
  {
   "cell_type": "code",
   "execution_count": 20,
   "id": "7a96efe8",
   "metadata": {},
   "outputs": [
    {
     "name": "stdout",
     "output_type": "stream",
     "text": [
      "The t-statistic and p-value assuming equal variances is 1.087 and 0.284.\n",
      "The t-statistic and p-value not assuming equal variances is 1.109 and 0.275\n"
     ]
    }
   ],
   "source": [
    "한화 = picher.loc[picher['팀명']=='한화']\n",
    "SK = picher.loc[picher['팀명']=='SK']\n",
    "\n",
    "from scipy import stats\n",
    "tTestResult = stats.ttest_ind(한화['연봉(2017)'], SK['연봉(2017)'])\n",
    "tTestResultDiffVar = stats.ttest_ind(한화['연봉(2017)'], SK['연봉(2017)'], equal_var=False)\n",
    "\n",
    "print(\"The t-statistic and p-value assuming equal variances is %.3f and %.3f.\" % tTestResult)\n",
    "print(\"The t-statistic and p-value not assuming equal variances is %.3f and %.3f\" % tTestResultDiffVar)"
   ]
  }
 ],
 "metadata": {
  "kernelspec": {
   "display_name": "Python 3 (ipykernel)",
   "language": "python",
   "name": "python3"
  },
  "language_info": {
   "codemirror_mode": {
    "name": "ipython",
    "version": 3
   },
   "file_extension": ".py",
   "mimetype": "text/x-python",
   "name": "python",
   "nbconvert_exporter": "python",
   "pygments_lexer": "ipython3",
   "version": "3.9.13"
  }
 },
 "nbformat": 4,
 "nbformat_minor": 5
}
